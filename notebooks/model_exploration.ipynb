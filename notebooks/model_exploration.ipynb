{
 "cells": [
  {
   "cell_type": "markdown",
   "metadata": {},
   "source": [
    "# Neural Network Model Exploration\n",
    "\n",
    "This notebook demonstrates how to use the neural network template."
   ]
  },
  {
   "cell_type": "code",
   "execution_count": null,
   "metadata": {},
   "source": [
    "import sys\n",
    "import os\n",
    "import torch\n",
    "import numpy as np\n",
    "import matplotlib.pyplot as plt\n",
    "\n",
    "# Add parent directory to Python path\n",
    "sys.path.insert(0, os.path.abspath(os.path.join(os.getcwd(), \"..\")))\n",
    "\n",
    "from src.models import BaseModel\n",
    "from src.config import DEFAULT_CONFIG"
   ]
  },
  {
   "cell_type": "markdown",
   "metadata": {},
   "source": [
    "## Model Initialization\n",
    "\n",
    "First, let's initialize a model using the default configuration:"
   ]
  },
  {
   "cell_type": "code",
   "execution_count": null,
   "metadata": {},
   "source": [
    "# Get model configuration\n",
    "model_config = DEFAULT_CONFIG[\"model\"]\n",
    "\n",
    "# Initialize model\n",
    "model = BaseModel(model_config)\n",
    "\n",
    "# Print model architecture\n",
    "print(model)"
   ]
  },
  {
   "cell_type": "markdown",
   "metadata": {},
   "source": [
    "## Forward Pass\n",
    "\n",
    "Let's test a forward pass through the model:"
   ]
  },
  {
   "cell_type": "code",
   "execution_count": null,
   "metadata": {},
   "source": [
    "# Create a random input tensor\n",
    "batch_size = 4\n",
    "input_dim = model_config[\"input_dim\"]\n",
    "x = torch.randn(batch_size, input_dim)\n",
    "\n",
    "# Forward pass\n",
    "output = model(x)\n",
    "\n",
    "# Print output shape\n",
    "print(f\"Input shape: {x.shape}\")\n",
    "print(f\"Output shape: {output.shape}\")"
   ]
  },
  {
   "cell_type": "markdown",
   "metadata": {},
   "source": [
    "## Customizing the Model\n",
    "\n",
    "You can customize the model by modifying the configuration:"
   ]
  },
  {
   "cell_type": "code",
   "execution_count": null,
   "metadata": {},
   "source": [
    "# Create a custom configuration\n",
    "custom_config = {\n",
    "    \"input_dim\": 100,\n",
    "    \"hidden_dim\": 64,\n",
    "    \"output_dim\": 5,\n",
    "    \"dropout\": 0.5\n",
    "}\n",
    "\n",
    "# Initialize a custom model\n",
    "custom_model = BaseModel(custom_config)\n",
    "\n",
    "# Print custom model architecture\n",
    "print(custom_model)"
   ]
  },
  {
   "cell_type": "markdown",
   "metadata": {},
   "source": [
    "## Next Steps\n",
    "\n",
    "From here, you can:\n",
    "1. Modify the model architecture\n",
    "2. Create a dataset loader\n",
    "3. Implement training logic\n",
    "4. Evaluate model performance"
   ]
  }
 ],
 "metadata": {
  "kernelspec": {
   "display_name": "Python 3",
   "language": "python",
   "name": "python3"
  },
  "language_info": {
   "codemirror_mode": {
    "name": "ipython",
    "version": 3
   },
   "file_extension": ".py",
   "mimetype": "text/x-python",
   "name": "python",
   "nbconvert_exporter": "python",
   "pygments_lexer": "ipython3",
   "version": "3.8.5"
  }
 },
 "nbformat": 4,
 "nbformat_minor": 4
}
